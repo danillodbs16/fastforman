{
 "cells": [
  {
   "cell_type": "code",
   "execution_count": 1,
   "metadata": {},
   "outputs": [],
   "source": [
    "import networkx as nx\n",
    "import numpy as np\n",
    "from itertools import combinations\n",
    "from math import dist"
   ]
  },
  {
   "cell_type": "code",
   "execution_count": 2,
   "metadata": {},
   "outputs": [],
   "source": [
    "from scipy.special import binom"
   ]
  },
  {
   "cell_type": "code",
   "execution_count": 3,
   "metadata": {},
   "outputs": [],
   "source": [
    "import fastforman as ff"
   ]
  },
  {
   "cell_type": "code",
   "execution_count": 4,
   "metadata": {},
   "outputs": [],
   "source": [
    "D={i:np.random.uniform(0,1,3) for i in range(10)}"
   ]
  },
  {
   "cell_type": "code",
   "execution_count": 16,
   "metadata": {},
   "outputs": [],
   "source": [
    "cutoff=0.4\n",
    "dim=2"
   ]
  },
  {
   "cell_type": "code",
   "execution_count": 17,
   "metadata": {},
   "outputs": [],
   "source": [
    "Gd=nx.Graph()\n",
    "n=len(D)\n",
    "Md=np.zeros((n,n))\n",
    "Gd.add_nodes_from(list(D.keys()))\n",
    "for pair in combinations(list(D.keys()),2):\n",
    "    i,j=pair\n",
    "    distance=dist(D[i],D[j])\n",
    "    #if distance<=cutoff:\n",
    "    Gd.add_edge(*pair)\n",
    "    Gd[i][j][\"weight\"]=distance\n",
    "    Md[i][j]=Md[j][i]=distance"
   ]
  },
  {
   "cell_type": "code",
   "execution_count": 18,
   "metadata": {},
   "outputs": [],
   "source": [
    "MMd=nx.to_numpy_array(Gd)"
   ]
  },
  {
   "cell_type": "code",
   "execution_count": 19,
   "metadata": {},
   "outputs": [
    {
     "data": {
      "text/plain": [
       "array([[0.        , 0.75693366, 0.31667091, 0.6076629 , 0.76491899,\n",
       "        0.62730719, 0.74779334, 0.86804245, 0.6111057 , 0.76725324],\n",
       "       [0.75693366, 0.        , 0.58924128, 0.68137812, 0.61357402,\n",
       "        0.60389438, 0.23330907, 0.62729316, 0.94093057, 0.73024038],\n",
       "       [0.31667091, 0.58924128, 0.        , 0.63183629, 0.46693716,\n",
       "        0.39270832, 0.56896549, 0.67411974, 0.41634442, 0.7750486 ],\n",
       "       [0.6076629 , 0.68137812, 0.63183629, 0.        , 0.7597764 ,\n",
       "        0.54041675, 0.52604851, 0.52593839, 0.95252521, 0.16152953],\n",
       "       [0.76491899, 0.61357402, 0.46693716, 0.7597764 , 0.        ,\n",
       "        0.23712948, 0.50472783, 0.4264147 , 0.52995074, 0.83919355],\n",
       "       [0.62730719, 0.60389438, 0.39270832, 0.54041675, 0.23712948,\n",
       "        0.        , 0.44635363, 0.31659081, 0.55164666, 0.62989637],\n",
       "       [0.74779334, 0.23330907, 0.56896549, 0.52604851, 0.50472783,\n",
       "        0.44635363, 0.        , 0.40216432, 0.89807901, 0.55722761],\n",
       "       [0.86804245, 0.62729316, 0.67411974, 0.52593839, 0.4264147 ,\n",
       "        0.31659081, 0.40216432, 0.        , 0.86300704, 0.52903595],\n",
       "       [0.6111057 , 0.94093057, 0.41634442, 0.95252521, 0.52995074,\n",
       "        0.55164666, 0.89807901, 0.86300704, 0.        , 1.08999078],\n",
       "       [0.76725324, 0.73024038, 0.7750486 , 0.16152953, 0.83919355,\n",
       "        0.62989637, 0.55722761, 0.52903595, 1.08999078, 0.        ]])"
      ]
     },
     "execution_count": 19,
     "metadata": {},
     "output_type": "execute_result"
    }
   ],
   "source": [
    "MMd"
   ]
  },
  {
   "cell_type": "code",
   "execution_count": 20,
   "metadata": {},
   "outputs": [
    {
     "name": "stdout",
     "output_type": "stream",
     "text": [
      "Help on built-in function compute_average_FRC in module fastforman:\n",
      "\n",
      "compute_average_FRC(...)\n",
      "    Computes the average Forman-Ricci Curvature (FRC) up to dimension dim from the object provided.\n",
      "    The average FRC is known as the sum of all local FRC divided by the number of d-cells.\n",
      "    \n",
      "    Input: D, an object that can be:\n",
      "    \n",
      "    - A dictionary in which the keys are enumerated from 0 to len(D)-1 and the values are the N-dimensional points. \n",
      "    - A nx.Graph object. The edge's attibutes `weight` will be considered.\n",
      "    - A np.ndarray object that represents a symmetric matrix of float numbers\n",
      "    cutoff: A float number for the threshold values for distance (if D is a dictionary), weights \n",
      "    (if D is a nx.Graph) of float values (if D is a np.matrix);\n",
      "    \n",
      "    dim: integer, the maximum simplex dimension allowed to the computation.\n",
      "    \n",
      "    Output:\n",
      "    a dictionary whose keys are the dimensions and the values are the average FRC for respective dimension.\n",
      "\n"
     ]
    }
   ],
   "source": [
    "help(ff.compute_average_FRC)"
   ]
  },
  {
   "cell_type": "code",
   "execution_count": 21,
   "metadata": {},
   "outputs": [
    {
     "data": {
      "text/plain": [
       "{0, 1, 2, 4, 5, 6, 7, 8, 9}"
      ]
     },
     "execution_count": 21,
     "metadata": {},
     "output_type": "execute_result"
    }
   ],
   "source": [
    "set(Gd.neighbors(3))"
   ]
  },
  {
   "cell_type": "code",
   "execution_count": 22,
   "metadata": {},
   "outputs": [
    {
     "data": {
      "text/plain": [
       "False"
      ]
     },
     "execution_count": 22,
     "metadata": {},
     "output_type": "execute_result"
    }
   ],
   "source": [
    "Gd.has_edge(1,1)"
   ]
  },
  {
   "cell_type": "code",
   "execution_count": 23,
   "metadata": {},
   "outputs": [
    {
     "name": "stdout",
     "output_type": "stream",
     "text": [
      "{0: {2}, 1: {6}, 2: {0, 5}, 3: {9}, 4: {5}, 5: {2, 4, 7}, 6: {1}, 7: {5}, 8: set(), 9: {3}}\n"
     ]
    },
    {
     "data": {
      "text/plain": [
       "{1: 0.6666666666666666, 2: 0.0}"
      ]
     },
     "execution_count": 23,
     "metadata": {},
     "output_type": "execute_result"
    }
   ],
   "source": [
    "ff.compute_average_FRC(Gd,cutoff,dim)"
   ]
  },
  {
   "cell_type": "code",
   "execution_count": 24,
   "metadata": {},
   "outputs": [
    {
     "name": "stdout",
     "output_type": "stream",
     "text": [
      "{0: {2}, 1: {6}, 2: {0, 5}, 3: {9}, 4: {5}, 5: {2, 4, 7}, 6: {1}, 7: {5}, 8: set(), 9: {3}}\n"
     ]
    },
    {
     "data": {
      "text/plain": [
       "{1: 0.6666666666666666, 2: 0.0}"
      ]
     },
     "execution_count": 24,
     "metadata": {},
     "output_type": "execute_result"
    }
   ],
   "source": [
    "ff.compute_average_FRC(MMd,cutoff,dim)"
   ]
  },
  {
   "cell_type": "code",
   "execution_count": 25,
   "metadata": {
    "scrolled": true
   },
   "outputs": [
    {
     "name": "stdout",
     "output_type": "stream",
     "text": [
      "{0: {2}, 1: {6}, 2: {0, 5}, 3: {9}, 4: {5}, 5: {2, 4, 7}, 6: {1}, 7: {5}, 8: set(), 9: {3}}\n"
     ]
    },
    {
     "data": {
      "text/plain": [
       "{1: 0.6666666666666666, 2: 0.0}"
      ]
     },
     "execution_count": 25,
     "metadata": {},
     "output_type": "execute_result"
    }
   ],
   "source": [
    "ff.compute_average_FRC(D,cutoff,dim)"
   ]
  },
  {
   "cell_type": "code",
   "execution_count": 15,
   "metadata": {},
   "outputs": [
    {
     "name": "stdout",
     "output_type": "stream",
     "text": [
      "{0: {1, 2, 3, 4, 5, 6, 7, 8, 9}, 1: {0, 2, 3, 4, 5, 6, 7, 8, 9}, 2: {0, 1, 3, 4, 5, 6, 7, 8, 9}, 3: {0, 1, 2, 4, 5, 6, 7, 8, 9}, 4: {0, 1, 2, 3, 5, 6, 7, 8, 9}, 5: {0, 1, 2, 3, 4, 6, 7, 8, 9}, 6: {0, 1, 2, 3, 4, 5, 7, 8, 9}, 7: {0, 1, 2, 3, 4, 5, 6, 8, 9}, 8: {0, 1, 2, 3, 4, 5, 6, 7, 9}, 9: {0, 1, 2, 3, 4, 5, 6, 7, 8}}\n"
     ]
    },
    {
     "data": {
      "text/plain": [
       "{1: 10.0, 2: 10.0}"
      ]
     },
     "execution_count": 15,
     "metadata": {},
     "output_type": "execute_result"
    }
   ],
   "source": [
    "ff.compute_average_FRC(Md,cutoff,dim)"
   ]
  },
  {
   "cell_type": "code",
   "execution_count": 4,
   "metadata": {},
   "outputs": [],
   "source": [
    "G=nx.erdos_renyi_graph(50,0.7)\n",
    "for e in G.edges():\n",
    "    G[e[0]][e[1]][\"weight\"]=np.random.uniform(0,1)"
   ]
  },
  {
   "cell_type": "code",
   "execution_count": 5,
   "metadata": {},
   "outputs": [],
   "source": [
    "cutoff=0.34\n",
    "dim=1"
   ]
  },
  {
   "cell_type": "code",
   "execution_count": 6,
   "metadata": {},
   "outputs": [
    {
     "name": "stdout",
     "output_type": "stream",
     "text": [
      "Help on built-in function compute_average_FRC in module fastforman:\n",
      "\n",
      "compute_average_FRC(...)\n",
      "    Computes the average Forman-Ricci Curvature (FRC) up to dimension dim from the object provided.\n",
      "    The average FRC is known as the sum of all local FRC divided by the number of d-cells.\n",
      "    \n",
      "    Input: D, an object that can be:\n",
      "    \n",
      "    - A dictionary in which the keys are enumerated from 0 to len(D)-1 and the values are the N-dimensional points. \n",
      "    - A nx.Graph object. The edge's attibutes `weight` will be considered.\n",
      "    - A np.ndarray object that represents a symmetric matrix of float numbers\n",
      "    cutoff: A float number for the threshold values for distance (if D is a dictionary), weights \n",
      "    (if D is a nx.Graph) of float values (if D is a np.matrix);\n",
      "    \n",
      "    dim: integer, the maximum simplex dimension allowed to the computation.\n",
      "    \n",
      "    Output:\n",
      "    a dictionary whose keys are the dimensions and the values are the average FRC for respective dimension.\n",
      "\n"
     ]
    }
   ],
   "source": [
    "help(ff.compute_average_FRC)"
   ]
  },
  {
   "cell_type": "code",
   "execution_count": 7,
   "metadata": {},
   "outputs": [
    {
     "data": {
      "text/plain": [
       "{1: -2.962574850299401}"
      ]
     },
     "execution_count": 7,
     "metadata": {},
     "output_type": "execute_result"
    }
   ],
   "source": [
    "ff.compute_average_FRC(G,cutoff,dim)"
   ]
  },
  {
   "cell_type": "code",
   "execution_count": 13,
   "metadata": {},
   "outputs": [],
   "source": [
    "cutoff=0.5"
   ]
  },
  {
   "cell_type": "code",
   "execution_count": 14,
   "metadata": {},
   "outputs": [],
   "source": [
    "M=nx.to_numpy_array(G)\n",
    "M=np.where(M<=cutoff,M,0)\n",
    "Gf=nx.from_numpy_array(M)"
   ]
  },
  {
   "cell_type": "code",
   "execution_count": 48,
   "metadata": {},
   "outputs": [],
   "source": [
    "D=M.copy()"
   ]
  },
  {
   "cell_type": "code",
   "execution_count": 52,
   "metadata": {},
   "outputs": [
    {
     "name": "stdout",
     "output_type": "stream",
     "text": [
      "int!\n"
     ]
    }
   ],
   "source": [
    "if isinstance(2,int):\n",
    "    print(\"int!\")"
   ]
  },
  {
   "cell_type": "code",
   "execution_count": 55,
   "metadata": {},
   "outputs": [],
   "source": [
    "if isinstance(D, np.ndarray):\n",
    "    M=np.where(D<=cutoff,D,0)\n",
    "    M=nx.from_numpy_array(M)\n",
    "    Neigh={i:set(M.neighbors(i)) for i in M.nodes()}\n",
    "    C=cliques_networkx(M,dim)\n",
    "    "
   ]
  },
  {
   "cell_type": "code",
   "execution_count": 56,
   "metadata": {},
   "outputs": [
    {
     "data": {
      "text/plain": [
       "{0: {6, 9, 11, 15, 16, 20, 21, 23, 25, 31, 35, 36, 41, 44, 48},\n",
       " 1: {3, 8, 13, 14, 17, 24, 27, 32, 35, 39, 43, 44, 45, 47},\n",
       " 2: {6, 16, 17, 18, 21, 22, 23, 24, 26, 28, 35, 36, 38, 39, 46, 47, 48},\n",
       " 3: {1, 5, 7, 8, 12, 14, 15, 16, 20, 22, 23, 27, 33, 40, 42, 46, 47, 49},\n",
       " 4: {5,\n",
       "  9,\n",
       "  10,\n",
       "  13,\n",
       "  15,\n",
       "  16,\n",
       "  17,\n",
       "  18,\n",
       "  20,\n",
       "  22,\n",
       "  28,\n",
       "  32,\n",
       "  35,\n",
       "  40,\n",
       "  41,\n",
       "  43,\n",
       "  45,\n",
       "  46,\n",
       "  47,\n",
       "  48},\n",
       " 5: {3, 4, 9, 12, 13, 16, 18, 23, 30, 33, 39, 40, 46, 47, 48},\n",
       " 6: {0, 2, 11, 12, 14, 15, 17, 23, 25, 26, 28, 29, 30, 35, 37, 47, 48, 49},\n",
       " 7: {3, 9, 13, 14, 15, 19, 20, 26, 27, 32, 35, 36, 39, 40, 41, 46},\n",
       " 8: {1, 3, 11, 12, 14, 16, 17, 19, 20, 21, 23, 24, 25, 35, 39, 47},\n",
       " 9: {0, 4, 5, 7, 12, 16, 23, 26, 27, 30, 31, 34, 36, 37, 38, 40, 43, 44},\n",
       " 10: {4, 12, 13, 18, 19, 24, 27, 29, 30, 35, 36, 39, 43, 44, 46, 48},\n",
       " 11: {0, 6, 8, 13, 14, 16, 18, 19, 20, 26, 31, 32, 35, 37, 39, 42, 45, 47, 49},\n",
       " 12: {3, 5, 6, 8, 9, 10, 13, 14, 27, 34, 40, 43, 44, 47, 49},\n",
       " 13: {1, 4, 5, 7, 10, 11, 12, 15, 23, 24, 26, 30, 31, 38, 39, 40, 42, 45, 46},\n",
       " 14: {1, 3, 6, 7, 8, 11, 12, 17, 18, 19, 20, 28, 29, 31, 32, 40, 43, 49},\n",
       " 15: {0, 3, 4, 6, 7, 13, 17, 18, 24, 27, 29, 31, 44, 49},\n",
       " 16: {0,\n",
       "  2,\n",
       "  3,\n",
       "  4,\n",
       "  5,\n",
       "  8,\n",
       "  9,\n",
       "  11,\n",
       "  17,\n",
       "  26,\n",
       "  29,\n",
       "  31,\n",
       "  32,\n",
       "  33,\n",
       "  37,\n",
       "  39,\n",
       "  40,\n",
       "  41,\n",
       "  42,\n",
       "  43,\n",
       "  44,\n",
       "  49},\n",
       " 17: {1, 2, 4, 6, 8, 14, 15, 16, 28, 30, 35, 38, 40, 42, 45, 49},\n",
       " 18: {2, 4, 5, 10, 11, 14, 15, 19, 20, 22, 27, 28, 32, 40, 42, 44, 46},\n",
       " 19: {7,\n",
       "  8,\n",
       "  10,\n",
       "  11,\n",
       "  14,\n",
       "  18,\n",
       "  24,\n",
       "  25,\n",
       "  26,\n",
       "  28,\n",
       "  30,\n",
       "  31,\n",
       "  32,\n",
       "  33,\n",
       "  37,\n",
       "  40,\n",
       "  42,\n",
       "  44,\n",
       "  45,\n",
       "  47},\n",
       " 20: {0, 3, 4, 7, 8, 11, 14, 18, 21, 22, 25, 42, 44, 46, 47, 48},\n",
       " 21: {0, 2, 8, 20, 22, 23, 27, 30, 33, 35, 38, 39, 43, 46, 49},\n",
       " 22: {2, 3, 4, 18, 20, 21, 23, 30, 31, 33, 34, 35, 39, 41, 42, 45, 47, 48},\n",
       " 23: {0, 2, 3, 5, 6, 8, 9, 13, 21, 22, 24, 25, 29, 31, 32, 35, 43, 45, 47},\n",
       " 24: {1, 2, 8, 10, 13, 15, 19, 23, 25, 35, 36, 41, 42, 43, 45, 46, 49},\n",
       " 25: {0, 6, 8, 19, 20, 23, 24, 27, 30, 32, 35, 36, 37, 38, 40, 41, 44, 49},\n",
       " 26: {2, 6, 7, 9, 11, 13, 16, 19, 28, 29, 30, 37, 39, 40, 45, 46},\n",
       " 27: {1, 3, 7, 9, 10, 12, 15, 18, 21, 25, 32, 33, 34, 36, 41, 43, 46, 48, 49},\n",
       " 28: {2, 4, 6, 14, 17, 18, 19, 26, 29, 34, 36, 37, 38, 39, 40, 41, 43, 46, 49},\n",
       " 29: {6, 10, 14, 15, 16, 23, 26, 28, 30, 33, 34, 35, 36, 39, 43, 46, 48, 49},\n",
       " 30: {5,\n",
       "  6,\n",
       "  9,\n",
       "  10,\n",
       "  13,\n",
       "  17,\n",
       "  19,\n",
       "  21,\n",
       "  22,\n",
       "  25,\n",
       "  26,\n",
       "  29,\n",
       "  31,\n",
       "  32,\n",
       "  33,\n",
       "  34,\n",
       "  41,\n",
       "  43,\n",
       "  46,\n",
       "  48},\n",
       " 31: {0, 9, 11, 13, 14, 15, 16, 19, 22, 23, 30, 32, 33, 35, 40, 44},\n",
       " 32: {1, 4, 7, 11, 14, 16, 18, 19, 23, 25, 27, 30, 31, 33, 40, 43, 45, 47, 48},\n",
       " 33: {3, 5, 16, 19, 21, 22, 27, 29, 30, 31, 32, 34, 42, 46, 48, 49},\n",
       " 34: {9, 12, 22, 27, 28, 29, 30, 33, 35, 37, 40, 44, 45, 47, 49},\n",
       " 35: {0,\n",
       "  1,\n",
       "  2,\n",
       "  4,\n",
       "  6,\n",
       "  7,\n",
       "  8,\n",
       "  10,\n",
       "  11,\n",
       "  17,\n",
       "  21,\n",
       "  22,\n",
       "  23,\n",
       "  24,\n",
       "  25,\n",
       "  29,\n",
       "  31,\n",
       "  34,\n",
       "  38,\n",
       "  39,\n",
       "  40,\n",
       "  41,\n",
       "  46,\n",
       "  47,\n",
       "  49},\n",
       " 36: {0, 2, 7, 9, 10, 24, 25, 27, 28, 29, 37, 41, 42, 47, 49},\n",
       " 37: {6, 9, 11, 16, 19, 25, 26, 28, 34, 36, 41, 44, 49},\n",
       " 38: {2, 9, 13, 17, 21, 25, 28, 35, 39, 41, 42, 44, 46, 48, 49},\n",
       " 39: {1,\n",
       "  2,\n",
       "  5,\n",
       "  7,\n",
       "  8,\n",
       "  10,\n",
       "  11,\n",
       "  13,\n",
       "  16,\n",
       "  21,\n",
       "  22,\n",
       "  26,\n",
       "  28,\n",
       "  29,\n",
       "  35,\n",
       "  38,\n",
       "  41,\n",
       "  44,\n",
       "  45,\n",
       "  46},\n",
       " 40: {3,\n",
       "  4,\n",
       "  5,\n",
       "  7,\n",
       "  9,\n",
       "  12,\n",
       "  13,\n",
       "  14,\n",
       "  16,\n",
       "  17,\n",
       "  18,\n",
       "  19,\n",
       "  25,\n",
       "  26,\n",
       "  28,\n",
       "  31,\n",
       "  32,\n",
       "  34,\n",
       "  35,\n",
       "  41,\n",
       "  43,\n",
       "  44,\n",
       "  47},\n",
       " 41: {0, 4, 7, 16, 22, 24, 25, 27, 28, 30, 35, 36, 37, 38, 39, 40, 44, 47, 48},\n",
       " 42: {3, 11, 13, 16, 17, 18, 19, 20, 22, 24, 33, 36, 38, 47},\n",
       " 43: {1, 4, 9, 10, 12, 14, 16, 21, 23, 24, 27, 28, 29, 30, 32, 40, 46, 48},\n",
       " 44: {0,\n",
       "  1,\n",
       "  9,\n",
       "  10,\n",
       "  12,\n",
       "  15,\n",
       "  16,\n",
       "  18,\n",
       "  19,\n",
       "  20,\n",
       "  25,\n",
       "  31,\n",
       "  34,\n",
       "  37,\n",
       "  38,\n",
       "  39,\n",
       "  40,\n",
       "  41,\n",
       "  45,\n",
       "  46,\n",
       "  48},\n",
       " 45: {1, 4, 11, 13, 17, 19, 22, 23, 24, 26, 32, 34, 39, 44, 46},\n",
       " 46: {2,\n",
       "  3,\n",
       "  4,\n",
       "  5,\n",
       "  7,\n",
       "  10,\n",
       "  13,\n",
       "  18,\n",
       "  20,\n",
       "  21,\n",
       "  24,\n",
       "  26,\n",
       "  27,\n",
       "  28,\n",
       "  29,\n",
       "  30,\n",
       "  33,\n",
       "  35,\n",
       "  38,\n",
       "  39,\n",
       "  43,\n",
       "  44,\n",
       "  45,\n",
       "  47,\n",
       "  49},\n",
       " 47: {1,\n",
       "  2,\n",
       "  3,\n",
       "  4,\n",
       "  5,\n",
       "  6,\n",
       "  8,\n",
       "  11,\n",
       "  12,\n",
       "  19,\n",
       "  20,\n",
       "  22,\n",
       "  23,\n",
       "  32,\n",
       "  34,\n",
       "  35,\n",
       "  36,\n",
       "  40,\n",
       "  41,\n",
       "  42,\n",
       "  46},\n",
       " 48: {0, 2, 4, 5, 6, 10, 20, 22, 27, 29, 30, 32, 33, 38, 41, 43, 44},\n",
       " 49: {3,\n",
       "  6,\n",
       "  11,\n",
       "  12,\n",
       "  14,\n",
       "  15,\n",
       "  16,\n",
       "  17,\n",
       "  21,\n",
       "  24,\n",
       "  25,\n",
       "  27,\n",
       "  28,\n",
       "  29,\n",
       "  33,\n",
       "  34,\n",
       "  35,\n",
       "  36,\n",
       "  37,\n",
       "  38,\n",
       "  46}}"
      ]
     },
     "execution_count": 56,
     "metadata": {},
     "output_type": "execute_result"
    }
   ],
   "source": [
    "Neigh"
   ]
  },
  {
   "cell_type": "code",
   "execution_count": 54,
   "metadata": {},
   "outputs": [
    {
     "data": {
      "text/plain": [
       "array([[0.        , 0.        , 0.        , ..., 0.        , 0.04892127,\n",
       "        0.        ],\n",
       "       [0.        , 0.        , 0.        , ..., 0.4230916 , 0.        ,\n",
       "        0.        ],\n",
       "       [0.        , 0.        , 0.        , ..., 0.17104829, 0.16870667,\n",
       "        0.        ],\n",
       "       ...,\n",
       "       [0.        , 0.4230916 , 0.17104829, ..., 0.        , 0.        ,\n",
       "        0.        ],\n",
       "       [0.04892127, 0.        , 0.16870667, ..., 0.        , 0.        ,\n",
       "        0.        ],\n",
       "       [0.        , 0.        , 0.        , ..., 0.        , 0.        ,\n",
       "        0.        ]])"
      ]
     },
     "execution_count": 54,
     "metadata": {},
     "output_type": "execute_result"
    }
   ],
   "source": [
    "M"
   ]
  },
  {
   "cell_type": "code",
   "execution_count": 46,
   "metadata": {},
   "outputs": [
    {
     "data": {
      "text/plain": [
       "443"
      ]
     },
     "execution_count": 46,
     "metadata": {},
     "output_type": "execute_result"
    }
   ],
   "source": [
    "Gf.number_of_edges()"
   ]
  },
  {
   "cell_type": "code",
   "execution_count": 47,
   "metadata": {},
   "outputs": [
    {
     "data": {
      "text/plain": [
       "873"
      ]
     },
     "execution_count": 47,
     "metadata": {},
     "output_type": "execute_result"
    }
   ],
   "source": [
    "G.number_of_edges()"
   ]
  },
  {
   "cell_type": "code",
   "execution_count": 39,
   "metadata": {},
   "outputs": [
    {
     "data": {
      "text/plain": [
       "array([[0.        , 0.        , 0.        , ..., 0.55991244, 0.04892127,\n",
       "        0.65029472],\n",
       "       [0.        , 0.        , 0.        , ..., 0.4230916 , 0.71471   ,\n",
       "        0.        ],\n",
       "       [0.        , 0.        , 0.        , ..., 0.17104829, 0.16870667,\n",
       "        0.        ],\n",
       "       ...,\n",
       "       [0.55991244, 0.4230916 , 0.17104829, ..., 0.        , 0.85499565,\n",
       "        0.84829965],\n",
       "       [0.04892127, 0.71471   , 0.16870667, ..., 0.85499565, 0.        ,\n",
       "        0.99122626],\n",
       "       [0.65029472, 0.        , 0.        , ..., 0.84829965, 0.99122626,\n",
       "        0.        ]])"
      ]
     },
     "execution_count": 39,
     "metadata": {},
     "output_type": "execute_result"
    }
   ],
   "source": [
    "M"
   ]
  },
  {
   "cell_type": "code",
   "execution_count": 43,
   "metadata": {},
   "outputs": [
    {
     "data": {
      "text/plain": [
       "array([[0.        , 0.        , 0.        , ..., 0.        , 0.04892127,\n",
       "        0.        ],\n",
       "       [0.        , 0.        , 0.        , ..., 0.4230916 , 0.        ,\n",
       "        0.        ],\n",
       "       [0.        , 0.        , 0.        , ..., 0.17104829, 0.16870667,\n",
       "        0.        ],\n",
       "       ...,\n",
       "       [0.        , 0.4230916 , 0.17104829, ..., 0.        , 0.        ,\n",
       "        0.        ],\n",
       "       [0.04892127, 0.        , 0.16870667, ..., 0.        , 0.        ,\n",
       "        0.        ],\n",
       "       [0.        , 0.        , 0.        , ..., 0.        , 0.        ,\n",
       "        0.        ]])"
      ]
     },
     "execution_count": 43,
     "metadata": {},
     "output_type": "execute_result"
    }
   ],
   "source": [
    "np.where(M<=cutoff,M,0)"
   ]
  },
  {
   "cell_type": "code",
   "execution_count": 34,
   "metadata": {},
   "outputs": [
    {
     "data": {
      "text/plain": [
       "array([[0, 0, 1, ..., 1, 1, 0],\n",
       "       [0, 0, 1, ..., 1, 1, 1],\n",
       "       [1, 1, 0, ..., 1, 1, 1],\n",
       "       ...,\n",
       "       [1, 1, 1, ..., 0, 1, 1],\n",
       "       [1, 1, 1, ..., 1, 0, 1],\n",
       "       [0, 1, 1, ..., 1, 1, 0]])"
      ]
     },
     "execution_count": 34,
     "metadata": {},
     "output_type": "execute_result"
    }
   ],
   "source": [
    "nx.adjacency_matrix(G).toarray()"
   ]
  },
  {
   "cell_type": "code",
   "execution_count": 35,
   "metadata": {},
   "outputs": [
    {
     "data": {
      "text/plain": [
       "array([[ True,  True,  True, ...,  True,  True,  True],\n",
       "       [ True,  True,  True, ...,  True,  True,  True],\n",
       "       [ True,  True,  True, ...,  True,  True,  True],\n",
       "       ...,\n",
       "       [ True,  True,  True, ...,  True,  True,  True],\n",
       "       [ True,  True,  True, ...,  True,  True,  True],\n",
       "       [ True,  True,  True, ...,  True,  True,  True]])"
      ]
     },
     "execution_count": 35,
     "metadata": {},
     "output_type": "execute_result"
    }
   ],
   "source": [
    "M==nx.adjacency_matrix(G).toarray()"
   ]
  },
  {
   "cell_type": "code",
   "execution_count": 19,
   "metadata": {},
   "outputs": [
    {
     "data": {
      "text/plain": [
       "375"
      ]
     },
     "execution_count": 19,
     "metadata": {},
     "output_type": "execute_result"
    }
   ],
   "source": [
    "len(list(ff.cliques_networkx(G,3)))"
   ]
  },
  {
   "cell_type": "code",
   "execution_count": 21,
   "metadata": {},
   "outputs": [
    {
     "data": {
      "text/plain": [
       "375.0"
      ]
     },
     "execution_count": 21,
     "metadata": {},
     "output_type": "execute_result"
    }
   ],
   "source": [
    "binom(10,3)+binom(10,2)+binom(10,4)"
   ]
  },
  {
   "cell_type": "code",
   "execution_count": 22,
   "metadata": {},
   "outputs": [
    {
     "data": {
      "text/plain": [
       "False"
      ]
     },
     "execution_count": 22,
     "metadata": {},
     "output_type": "execute_result"
    }
   ],
   "source": [
    "\"ABCDE\" in \"A\""
   ]
  },
  {
   "cell_type": "code",
   "execution_count": null,
   "metadata": {},
   "outputs": [],
   "source": []
  }
 ],
 "metadata": {
  "kernelspec": {
   "display_name": "Python 3",
   "language": "python",
   "name": "python3"
  },
  "language_info": {
   "codemirror_mode": {
    "name": "ipython",
    "version": 3
   },
   "file_extension": ".py",
   "mimetype": "text/x-python",
   "name": "python",
   "nbconvert_exporter": "python",
   "pygments_lexer": "ipython3",
   "version": "3.8.5"
  }
 },
 "nbformat": 4,
 "nbformat_minor": 4
}
