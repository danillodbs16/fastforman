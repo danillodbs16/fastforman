{
 "cells": [
  {
   "cell_type": "code",
   "execution_count": 1,
   "id": "d66671a7",
   "metadata": {},
   "outputs": [],
   "source": [
    "import fastforman as ff\n",
    "import networkx as nx"
   ]
  },
  {
   "cell_type": "code",
   "execution_count": 2,
   "id": "da1ed99e",
   "metadata": {},
   "outputs": [
    {
     "data": {
      "text/plain": [
       "<cyfunction FRC_node at 0x7fb218478110>"
      ]
     },
     "execution_count": 2,
     "metadata": {},
     "output_type": "execute_result"
    }
   ],
   "source": [
    "ff.FRC_node"
   ]
  },
  {
   "cell_type": "code",
   "execution_count": 3,
   "id": "2ce05fe4",
   "metadata": {},
   "outputs": [],
   "source": [
    "G=nx.erdos_renyi_graph(50,1)\n",
    "Neigh={i:set(G.neighbors(i)) for i in G.nodes()}"
   ]
  },
  {
   "cell_type": "code",
   "execution_count": 4,
   "id": "af95911b",
   "metadata": {},
   "outputs": [
    {
     "data": {
      "text/plain": [
       "{1: {0: 1.0,\n",
       "  1: 1.0,\n",
       "  2: 1.0,\n",
       "  3: 1.0,\n",
       "  4: 1.0,\n",
       "  5: 1.0,\n",
       "  6: 1.0,\n",
       "  7: 1.0,\n",
       "  8: 1.0,\n",
       "  9: 1.0,\n",
       "  10: 1.0,\n",
       "  11: 1.0,\n",
       "  12: 1.0,\n",
       "  13: 1.0,\n",
       "  14: 1.0,\n",
       "  15: 1.0,\n",
       "  16: 1.0,\n",
       "  17: 1.0,\n",
       "  18: 1.0,\n",
       "  19: 1.0,\n",
       "  20: 1.0,\n",
       "  21: 1.0,\n",
       "  22: 1.0,\n",
       "  23: 1.0,\n",
       "  24: 1.0,\n",
       "  25: 1.0,\n",
       "  26: 1.0,\n",
       "  27: 1.0,\n",
       "  28: 1.0,\n",
       "  29: 1.0,\n",
       "  30: 1.0,\n",
       "  31: 1.0,\n",
       "  32: 1.0,\n",
       "  33: 1.0,\n",
       "  34: 1.0,\n",
       "  35: 1.0,\n",
       "  36: 1.0,\n",
       "  37: 1.0,\n",
       "  38: 1.0,\n",
       "  39: 1.0,\n",
       "  40: 1.0,\n",
       "  41: 1.0,\n",
       "  42: 1.0,\n",
       "  43: 1.0,\n",
       "  44: 1.0,\n",
       "  45: 1.0,\n",
       "  46: 1.0,\n",
       "  47: 1.0,\n",
       "  48: 1.0,\n",
       "  49: 1.0}}"
      ]
     },
     "execution_count": 4,
     "metadata": {},
     "output_type": "execute_result"
    }
   ],
   "source": [
    "ff.FRC_node([list(e) for e in list(G.edges())],Neigh)"
   ]
  },
  {
   "cell_type": "code",
   "execution_count": 5,
   "id": "cb1a3aa4",
   "metadata": {},
   "outputs": [
    {
     "data": {
      "text/plain": [
       "{1: {15: 1.0,\n",
       "  21: 1.0,\n",
       "  7: 1.0,\n",
       "  17: 1.0,\n",
       "  30: 1.0,\n",
       "  26: 1.0,\n",
       "  18: 1.0,\n",
       "  39: 1.0,\n",
       "  35: 1.0,\n",
       "  29: 1.0,\n",
       "  32: 1.0,\n",
       "  44: 1.0,\n",
       "  8: 1.0,\n",
       "  9: 1.0,\n",
       "  0: 1.0,\n",
       "  5: 1.0,\n",
       "  41: 1.0,\n",
       "  37: 1.0,\n",
       "  40: 1.0,\n",
       "  14: 1.0,\n",
       "  6: 1.0,\n",
       "  48: 1.0,\n",
       "  11: 1.0,\n",
       "  46: 1.0,\n",
       "  23: 1.0,\n",
       "  10: 1.0,\n",
       "  27: 1.0,\n",
       "  42: 1.0,\n",
       "  36: 1.0,\n",
       "  33: 1.0,\n",
       "  38: 1.0,\n",
       "  2: 1.0,\n",
       "  25: 1.0,\n",
       "  34: 1.0,\n",
       "  45: 1.0,\n",
       "  47: 1.0,\n",
       "  3: 1.0,\n",
       "  43: 1.0,\n",
       "  22: 1.0,\n",
       "  28: 1.0,\n",
       "  24: 1.0,\n",
       "  16: 1.0,\n",
       "  12: 1.0,\n",
       "  49: 1.0,\n",
       "  31: 1.0,\n",
       "  19: 1.0,\n",
       "  13: 1.0,\n",
       "  1: 1.0,\n",
       "  20: 1.0,\n",
       "  4: 1.0},\n",
       " 2: {24: 1.0,\n",
       "  26: 1.0,\n",
       "  45: 1.0,\n",
       "  16: 1.0,\n",
       "  29: 1.0,\n",
       "  37: 1.0,\n",
       "  8: 1.0,\n",
       "  11: 1.0,\n",
       "  30: 1.0,\n",
       "  0: 1.0,\n",
       "  14: 1.0,\n",
       "  22: 1.0,\n",
       "  13: 1.0,\n",
       "  34: 1.0,\n",
       "  36: 1.0,\n",
       "  20: 1.0,\n",
       "  33: 1.0,\n",
       "  7: 1.0,\n",
       "  12: 1.0,\n",
       "  47: 1.0,\n",
       "  32: 1.0,\n",
       "  39: 1.0,\n",
       "  1: 1.0,\n",
       "  41: 1.0,\n",
       "  17: 1.0,\n",
       "  21: 1.0,\n",
       "  38: 1.0,\n",
       "  25: 1.0,\n",
       "  35: 1.0,\n",
       "  44: 1.0,\n",
       "  42: 1.0,\n",
       "  9: 1.0,\n",
       "  23: 1.0,\n",
       "  10: 1.0,\n",
       "  48: 1.0,\n",
       "  2: 1.0,\n",
       "  4: 1.0,\n",
       "  5: 1.0,\n",
       "  3: 1.0,\n",
       "  18: 1.0,\n",
       "  49: 1.0,\n",
       "  28: 1.0,\n",
       "  6: 1.0,\n",
       "  31: 1.0,\n",
       "  40: 1.0,\n",
       "  19: 1.0,\n",
       "  15: 1.0,\n",
       "  27: 1.0,\n",
       "  46: 1.0,\n",
       "  43: 1.0}}"
      ]
     },
     "execution_count": 5,
     "metadata": {},
     "output_type": "execute_result"
    }
   ],
   "source": [
    "ff.compute_FRC_node(G,2.0,2)"
   ]
  },
  {
   "cell_type": "code",
   "execution_count": 6,
   "id": "6cc7a1c3",
   "metadata": {},
   "outputs": [
    {
     "name": "stdout",
     "output_type": "stream",
     "text": [
      "Help on cython_function_or_method in module fastforman:\n",
      "\n",
      "compute_FRC_node(D, cutoff, dim)\n",
      "    Computes the Forman-Ricci Curvature (FRC) for the nodes (up to dimension dim from the object provided).\n",
      "    \n",
      "    Input: D, an object that can be:\n",
      "    \n",
      "     - A dictionary in which the keys are enumerated from 0 to len(D)-1 and the values are the N-dimensional points. \n",
      "     - A nx.Graph object. The edge's attibutes `weight` will be considered.\n",
      "     - A np.ndarray object that represents a symmetric matrix of float numbers\n",
      "     cutoff: A float number for the threshold values for distance (if D is a dictionary), weights \n",
      "     (if D is a nx.Graph) of float values (if D is a np.matrix);\n",
      "    \n",
      "     dim: integer, the maximum simplex dimension allowed to the computation.\n",
      "    \n",
      "     Output:\n",
      "     a dictionary whose keys are the dimensions and the values are dictionaries with the FRC for each node.\n",
      "     If the node does not have curvature, the value information for the node will not be provided.\n",
      "\n"
     ]
    }
   ],
   "source": [
    "help(ff.compute_FRC_node)"
   ]
  },
  {
   "cell_type": "code",
   "execution_count": null,
   "id": "b115e974",
   "metadata": {},
   "outputs": [],
   "source": []
  }
 ],
 "metadata": {
  "kernelspec": {
   "display_name": "Python 3 (ipykernel)",
   "language": "python",
   "name": "python3"
  },
  "language_info": {
   "codemirror_mode": {
    "name": "ipython",
    "version": 3
   },
   "file_extension": ".py",
   "mimetype": "text/x-python",
   "name": "python",
   "nbconvert_exporter": "python",
   "pygments_lexer": "ipython3",
   "version": "3.9.7"
  }
 },
 "nbformat": 4,
 "nbformat_minor": 5
}
