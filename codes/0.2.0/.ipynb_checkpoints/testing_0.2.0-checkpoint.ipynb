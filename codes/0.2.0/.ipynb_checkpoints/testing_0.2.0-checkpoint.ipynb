{
 "cells": [
  {
   "cell_type": "code",
   "execution_count": 1,
   "id": "40ffdd39",
   "metadata": {},
   "outputs": [],
   "source": [
    "import fastforman as ff\n",
    "import networkx as nx"
   ]
  },
  {
   "cell_type": "code",
   "execution_count": 2,
   "id": "4d6d2cf7",
   "metadata": {},
   "outputs": [],
   "source": [
    "def fill_info(D,n):\n",
    "    for k in range(n):\n",
    "        try:\n",
    "            D[k]\n",
    "        except:\n",
    "            D[k]=0"
   ]
  },
  {
   "cell_type": "code",
   "execution_count": 3,
   "id": "f6ea5472",
   "metadata": {},
   "outputs": [],
   "source": [
    "D={1:-7}\n",
    "ff.fill_info(D,5)"
   ]
  },
  {
   "cell_type": "code",
   "execution_count": 14,
   "id": "f5e6b704",
   "metadata": {},
   "outputs": [
    {
     "data": {
      "text/plain": [
       "{1: -7, 0: 0, 2: 0, 3: 0, 4: 0}"
      ]
     },
     "execution_count": 14,
     "metadata": {},
     "output_type": "execute_result"
    }
   ],
   "source": [
    "D"
   ]
  },
  {
   "cell_type": "code",
   "execution_count": 5,
   "id": "5f0202c9",
   "metadata": {},
   "outputs": [
    {
     "data": {
      "text/plain": [
       "<function fastforman.FRC_node>"
      ]
     },
     "execution_count": 5,
     "metadata": {},
     "output_type": "execute_result"
    }
   ],
   "source": [
    "ff.FRC_node"
   ]
  },
  {
   "cell_type": "code",
   "execution_count": 2,
   "id": "fe499eb1",
   "metadata": {},
   "outputs": [],
   "source": [
    "G=nx.erdos_renyi_graph(50,0.01)\n",
    "Neigh={i:set(G.neighbors(i)) for i in G.nodes()}"
   ]
  },
  {
   "cell_type": "code",
   "execution_count": 3,
   "metadata": {},
   "outputs": [],
   "source": [
    "M=nx.to_numpy_array(G)"
   ]
  },
  {
   "cell_type": "code",
   "execution_count": 13,
   "id": "0d8e2bd2",
   "metadata": {},
   "outputs": [
    {
     "data": {
      "text/plain": [
       "{1: {0: 0.03333333333333333,\n",
       "  3: 0.06666666666666667,\n",
       "  1: 0.06666666666666667,\n",
       "  7: 0.03333333333333333,\n",
       "  30: 0.03333333333333333,\n",
       "  12: 0.03333333333333333,\n",
       "  4: 0.03333333333333333,\n",
       "  21: 0.06666666666666667,\n",
       "  8: 0.06666666666666667,\n",
       "  15: 0.06666666666666667,\n",
       "  9: 0.06666666666666667,\n",
       "  41: 0.06666666666666667,\n",
       "  11: -0.03333333333333333,\n",
       "  25: 0.0,\n",
       "  36: 0.0,\n",
       "  48: 0.0,\n",
       "  13: 0.06666666666666667,\n",
       "  26: 0.06666666666666667,\n",
       "  14: 0.03333333333333333,\n",
       "  16: 0.06666666666666667,\n",
       "  45: 0.06666666666666667,\n",
       "  20: 0.06666666666666667,\n",
       "  47: 0.06666666666666667,\n",
       "  27: 0.03333333333333333}}"
      ]
     },
     "execution_count": 13,
     "metadata": {},
     "output_type": "execute_result"
    }
   ],
   "source": [
    "ff.FRC_node([list(e) for e in list(G.edges())],Neigh)"
   ]
  },
  {
   "cell_type": "code",
   "execution_count": null,
   "metadata": {},
   "outputs": [],
   "source": [
    "F={}"
   ]
  },
  {
   "cell_type": "code",
   "execution_count": 7,
   "metadata": {},
   "outputs": [],
   "source": [
    "import numpy as np"
   ]
  },
  {
   "cell_type": "code",
   "execution_count": 8,
   "metadata": {},
   "outputs": [],
   "source": [
    "D={i:np.random.uniform(0,1,2) for i in range(50)}"
   ]
  },
  {
   "cell_type": "code",
   "execution_count": 6,
   "metadata": {},
   "outputs": [
    {
     "data": {
      "text/plain": [
       "{-42: 0,\n",
       " -41: 0,\n",
       " -40: 0,\n",
       " -39: 0,\n",
       " -38: 0,\n",
       " -37: 0,\n",
       " -36: 0,\n",
       " -35: 0,\n",
       " -34: 0,\n",
       " -33: 0,\n",
       " -32: 0,\n",
       " -31: 0,\n",
       " -30: 0,\n",
       " -29: 0,\n",
       " -28: 0,\n",
       " -27: 0,\n",
       " -26: 0,\n",
       " -25: 0,\n",
       " -24: 0,\n",
       " -23: 0,\n",
       " -22: 0,\n",
       " -21: 0,\n",
       " -20: 0,\n",
       " -19: 0,\n",
       " -18: 0,\n",
       " -17: 0,\n",
       " -16: 0,\n",
       " -15: 0,\n",
       " -14: 0,\n",
       " -13: 0,\n",
       " -12: 0,\n",
       " -11: 0,\n",
       " -10: 0,\n",
       " -9: 0,\n",
       " -8: 0,\n",
       " -7: 0,\n",
       " -6: 0,\n",
       " -5: 0,\n",
       " -4: 0,\n",
       " -3: 0,\n",
       " -2: 0,\n",
       " -1: 0,\n",
       " 0: 0,\n",
       " 1: 0,\n",
       " 2: 0,\n",
       " 3: 0,\n",
       " 4: 0,\n",
       " 5: 0,\n",
       " 6: 0,\n",
       " 7: 0,\n",
       " 8: 0,\n",
       " 9: 0,\n",
       " 10: 0,\n",
       " 11: 0,\n",
       " 12: 0,\n",
       " 13: 0,\n",
       " 14: 0,\n",
       " 15: 0,\n",
       " 16: 0,\n",
       " 17: 0,\n",
       " 18: 0,\n",
       " 19: 0,\n",
       " 20: 0,\n",
       " 21: 0,\n",
       " 22: 0,\n",
       " 23: 0,\n",
       " 24: 0,\n",
       " 25: 0,\n",
       " 26: 0,\n",
       " 27: 0,\n",
       " 28: 0,\n",
       " 29: 0,\n",
       " 30: 0,\n",
       " 31: 0,\n",
       " 32: 0,\n",
       " 33: 0,\n",
       " 34: 0,\n",
       " 35: 0,\n",
       " 36: 0,\n",
       " 37: 0,\n",
       " 38: 0,\n",
       " 39: 0,\n",
       " 40: 0,\n",
       " 41: 0,\n",
       " 42: 0,\n",
       " 43: 0,\n",
       " 44: 0,\n",
       " 45: 0,\n",
       " 46: 0,\n",
       " 47: 0,\n",
       " 48: 0,\n",
       " 49: 0,\n",
       " 50: 0}"
      ]
     },
     "execution_count": 6,
     "metadata": {},
     "output_type": "execute_result"
    }
   ],
   "source": [
    "ff.compute_FRC_frequency(M,1,3)[3]"
   ]
  },
  {
   "cell_type": "code",
   "execution_count": 6,
   "metadata": {},
   "outputs": [
    {
     "data": {
      "text/plain": [
       "{(16, 20): 2,\n",
       " (33, 36): 2,\n",
       " (11, 16): 0,\n",
       " (3, 20): 3,\n",
       " (39, 43): 2,\n",
       " (3, 16): 2,\n",
       " (6, 13): 2,\n",
       " (27, 32): 2,\n",
       " (10, 29): 2,\n",
       " (0, 21): 2,\n",
       " (7, 47): 2,\n",
       " (34, 44): 2,\n",
       " (15, 38): 1,\n",
       " (22, 38): 1}"
      ]
     },
     "execution_count": 6,
     "metadata": {},
     "output_type": "execute_result"
    }
   ],
   "source": [
    "ff.compute_FRC(M,1,3)[1]"
   ]
  },
  {
   "cell_type": "code",
   "execution_count": 7,
   "metadata": {},
   "outputs": [
    {
     "data": {
      "text/plain": [
       "[-44,\n",
       " -43,\n",
       " -42,\n",
       " -41,\n",
       " -40,\n",
       " -39,\n",
       " -38,\n",
       " -37,\n",
       " -36,\n",
       " -35,\n",
       " -34,\n",
       " -33,\n",
       " -32,\n",
       " -31,\n",
       " -30,\n",
       " -29,\n",
       " -28,\n",
       " -27,\n",
       " -26,\n",
       " -25,\n",
       " -24,\n",
       " -23,\n",
       " -22,\n",
       " -21,\n",
       " -20,\n",
       " -19,\n",
       " -18,\n",
       " -17,\n",
       " -16,\n",
       " -15,\n",
       " -14,\n",
       " -13,\n",
       " -12,\n",
       " -11,\n",
       " -10,\n",
       " -9,\n",
       " -8,\n",
       " -7,\n",
       " -6,\n",
       " -5,\n",
       " -4,\n",
       " -3,\n",
       " -2,\n",
       " -1,\n",
       " 0,\n",
       " 1,\n",
       " 2,\n",
       " 3,\n",
       " 4,\n",
       " 5,\n",
       " 6,\n",
       " 7,\n",
       " 8,\n",
       " 9,\n",
       " 10,\n",
       " 11,\n",
       " 12,\n",
       " 13,\n",
       " 14,\n",
       " 15,\n",
       " 16,\n",
       " 17,\n",
       " 18,\n",
       " 19,\n",
       " 20,\n",
       " 21,\n",
       " 22,\n",
       " 23,\n",
       " 24,\n",
       " 25,\n",
       " 26,\n",
       " 27,\n",
       " 28,\n",
       " 29,\n",
       " 30,\n",
       " 31,\n",
       " 32,\n",
       " 33,\n",
       " 34,\n",
       " 35,\n",
       " 36,\n",
       " 37,\n",
       " 38,\n",
       " 39,\n",
       " 40,\n",
       " 41,\n",
       " 42,\n",
       " 43,\n",
       " 44,\n",
       " 45,\n",
       " 46,\n",
       " 47,\n",
       " 48,\n",
       " 49,\n",
       " 50]"
      ]
     },
     "execution_count": 7,
     "metadata": {},
     "output_type": "execute_result"
    }
   ],
   "source": [
    "n=50\n",
    "d=2\n",
    "[i for i in range(-n+2*(d+1),n+1)]"
   ]
  },
  {
   "cell_type": "code",
   "execution_count": 4,
   "id": "9ab8f326",
   "metadata": {},
   "outputs": [
    {
     "data": {
      "text/plain": [
       "{0: nan,\n",
       " 1: nan,\n",
       " 2: nan,\n",
       " 3: nan,\n",
       " 4: nan,\n",
       " 5: nan,\n",
       " 6: nan,\n",
       " 7: nan,\n",
       " 8: nan,\n",
       " 9: nan,\n",
       " 10: nan,\n",
       " 11: nan,\n",
       " 12: nan,\n",
       " 13: nan,\n",
       " 14: nan,\n",
       " 15: nan,\n",
       " 16: nan,\n",
       " 17: nan,\n",
       " 18: nan,\n",
       " 19: nan,\n",
       " 20: nan,\n",
       " 21: nan,\n",
       " 22: nan,\n",
       " 23: nan,\n",
       " 24: nan,\n",
       " 25: nan,\n",
       " 26: nan,\n",
       " 27: nan,\n",
       " 28: nan,\n",
       " 29: nan,\n",
       " 30: nan,\n",
       " 31: nan,\n",
       " 32: nan,\n",
       " 33: nan,\n",
       " 34: nan,\n",
       " 35: nan,\n",
       " 36: nan,\n",
       " 37: nan,\n",
       " 38: nan,\n",
       " 39: nan,\n",
       " 40: nan,\n",
       " 41: nan,\n",
       " 42: nan,\n",
       " 43: nan,\n",
       " 44: nan,\n",
       " 45: nan,\n",
       " 46: nan,\n",
       " 47: nan,\n",
       " 48: nan,\n",
       " 49: nan}"
      ]
     },
     "execution_count": 4,
     "metadata": {},
     "output_type": "execute_result"
    }
   ],
   "source": [
    "ff.compute_FRC_node(M,1,3)[3]"
   ]
  },
  {
   "cell_type": "code",
   "execution_count": 12,
   "metadata": {},
   "outputs": [
    {
     "data": {
      "text/plain": [
       "50"
      ]
     },
     "execution_count": 12,
     "metadata": {},
     "output_type": "execute_result"
    }
   ],
   "source": [
    "len(ff.compute_FRC_node(G,1,3)[3])"
   ]
  },
  {
   "cell_type": "code",
   "execution_count": 6,
   "id": "5f631728",
   "metadata": {},
   "outputs": [
    {
     "name": "stdout",
     "output_type": "stream",
     "text": [
      "Help on cython_function_or_method in module fastforman:\n",
      "\n",
      "compute_FRC_node(D, cutoff, dim)\n",
      "    Computes the Forman-Ricci Curvature (FRC) for the nodes (up to dimension dim from the object provided).\n",
      "    \n",
      "    Input: D, an object that can be:\n",
      "    \n",
      "     - A dictionary in which the keys are enumerated from 0 to len(D)-1 and the values are the N-dimensional points. \n",
      "     - A nx.Graph object. The edge's attibutes `weight` will be considered.\n",
      "     - A np.ndarray object that represents a symmetric matrix of float numbers\n",
      "     cutoff: A float number for the threshold values for distance (if D is a dictionary), weights \n",
      "     (if D is a nx.Graph) of float values (if D is a np.matrix);\n",
      "    \n",
      "     dim: integer, the maximum simplex dimension allowed to the computation.\n",
      "    \n",
      "     Output:\n",
      "     a dictionary whose keys are the dimensions and the values are dictionaries with the FRC for each node.\n",
      "     If the node does not have curvature, the value information for the node will not be provided.\n",
      "\n"
     ]
    }
   ],
   "source": [
    "help(ff.compute_FRC_node)"
   ]
  },
  {
   "cell_type": "code",
   "execution_count": null,
   "id": "e6af6167",
   "metadata": {},
   "outputs": [],
   "source": []
  }
 ],
 "metadata": {
  "kernelspec": {
   "display_name": "Python 3",
   "language": "python",
   "name": "python3"
  },
  "language_info": {
   "codemirror_mode": {
    "name": "ipython",
    "version": 3
   },
   "file_extension": ".py",
   "mimetype": "text/x-python",
   "name": "python",
   "nbconvert_exporter": "python",
   "pygments_lexer": "ipython3",
   "version": "3.8.5"
  }
 },
 "nbformat": 4,
 "nbformat_minor": 5
}
