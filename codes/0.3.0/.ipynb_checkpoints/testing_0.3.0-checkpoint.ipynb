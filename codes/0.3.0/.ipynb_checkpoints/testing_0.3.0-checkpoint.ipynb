{
 "cells": [
  {
   "cell_type": "code",
   "execution_count": 44,
   "id": "40ffdd39",
   "metadata": {},
   "outputs": [],
   "source": [
    "import fastforman as ff\n",
    "import networkx as nx\n",
    "import numpy as np\n",
    "from itertools import combinations\n",
    "from math import dist"
   ]
  },
  {
   "cell_type": "code",
   "execution_count": 11,
   "id": "fe499eb1",
   "metadata": {},
   "outputs": [],
   "source": [
    "G=nx.erdos_renyi_graph(50,0.4)\n",
    "Neigh={i:set(G.neighbors(i)) for i in G.nodes()}"
   ]
  },
  {
   "cell_type": "code",
   "execution_count": 6,
   "id": "6443e092",
   "metadata": {},
   "outputs": [
    {
     "name": "stdout",
     "output_type": "stream",
     "text": [
      "Help on cython_function_or_method in module fastforman:\n",
      "\n",
      "compute_FRC_node_frequency(D, cutoff, dim)\n",
      "    Computes the frequency of Forman-Ricci Curvature (FRC) values up to dimension dim from the object provided.\n",
      "    \n",
      "    Input: D, an object that can be:\n",
      "    \n",
      "     - A dictionary in which the keys are enumerated from 0 to len(D)-1 and the values are the N-dimensional points. \n",
      "     - A nx.Graph object. The edge's attibutes `weight` will be considered.\n",
      "     - A np.ndarray object that represents a symmetric matrix of float numbers\n",
      "     cutoff: A float number for the threshold values for distance (if D is a dictionary), weights \n",
      "     (if D is a nx.Graph) of float values (if D is a np.matrix);\n",
      "    \n",
      "     dim: integer, the maximum simplex dimension allowed to the computation.\n",
      "    \n",
      "     Output:\n",
      "     a dictionary whose keys are the dimensions and the values are the average FRC for respective dimension.\n",
      "\n"
     ]
    }
   ],
   "source": [
    "help(ff.compute_FRC_node_frequency)"
   ]
  },
  {
   "cell_type": "code",
   "execution_count": 13,
   "id": "998ba2f1",
   "metadata": {},
   "outputs": [],
   "source": [
    "FF=ff.compute_FRC_node_frequency(G,2.0,3)"
   ]
  },
  {
   "cell_type": "code",
   "execution_count": 49,
   "id": "55bc69db",
   "metadata": {},
   "outputs": [],
   "source": [
    "D={i:np.random.uniform(0,1,3) for i in range(50)}\n",
    "cutoff=1.1"
   ]
  },
  {
   "cell_type": "code",
   "execution_count": 50,
   "id": "d1dc08c5",
   "metadata": {},
   "outputs": [],
   "source": [
    "M=np.zeros((len(D),len(D)))\n",
    "for pair in combinations([i for i in range(len(D))],2):\n",
    "    i,j=pair\n",
    "    M[i][j]=M[j][i]=dist(D[i],D[j])"
   ]
  },
  {
   "cell_type": "code",
   "execution_count": 51,
   "id": "6cae3b70",
   "metadata": {},
   "outputs": [],
   "source": [
    "FFd=ff.compute_FRC_node_frequency(D,cutoff,3)"
   ]
  },
  {
   "cell_type": "code",
   "execution_count": 52,
   "id": "c8423d75",
   "metadata": {},
   "outputs": [],
   "source": [
    "FFm=ff.compute_FRC_node_frequency(M,cutoff,3)"
   ]
  },
  {
   "cell_type": "code",
   "execution_count": 53,
   "id": "8dea9f63",
   "metadata": {},
   "outputs": [
    {
     "data": {
      "text/plain": [
       "{-44: 0,\n",
       " -43: 0,\n",
       " -42: 0,\n",
       " -41: 0,\n",
       " -40: 0,\n",
       " -39: 0,\n",
       " -38: 0,\n",
       " -37: 0,\n",
       " -36: 0,\n",
       " -35: 0,\n",
       " -34: 0,\n",
       " -33: 0,\n",
       " -32: 0,\n",
       " -31: 0,\n",
       " -30: 0,\n",
       " -29: 0,\n",
       " -28: 0,\n",
       " -27: 0,\n",
       " -26: 0,\n",
       " -25: 0,\n",
       " -24: 0,\n",
       " -23: 0,\n",
       " -22: 0,\n",
       " -21: 0,\n",
       " -20: 0,\n",
       " -19: 0,\n",
       " -18: 0,\n",
       " -17: 0,\n",
       " -16: 0,\n",
       " -15: 0,\n",
       " -14: 0,\n",
       " -13: 0,\n",
       " -12: 0,\n",
       " -11: 0,\n",
       " -10: 0,\n",
       " -9: 0,\n",
       " -8: 0,\n",
       " -7: 0,\n",
       " -6: 0,\n",
       " -5: 0,\n",
       " -4: 0,\n",
       " -3: 0,\n",
       " -2: 0,\n",
       " -1: 0,\n",
       " 0: 0,\n",
       " 1: 0,\n",
       " 2: 0,\n",
       " 3: 0,\n",
       " 4: 0,\n",
       " 5: 0,\n",
       " 6: 0,\n",
       " 7: 0,\n",
       " 8: 0,\n",
       " 9: 0,\n",
       " 10: 0,\n",
       " 11: 0,\n",
       " 12: 0,\n",
       " 13: 0,\n",
       " 14: 0,\n",
       " 15: 0,\n",
       " 16: 0,\n",
       " 17: 0,\n",
       " 18: 0,\n",
       " 19: 0,\n",
       " 20: 0,\n",
       " 21: 0,\n",
       " 22: 0,\n",
       " 23: 0,\n",
       " 24: 0,\n",
       " 25: 0,\n",
       " 26: 3,\n",
       " 27: 1,\n",
       " 28: 4,\n",
       " 29: 3,\n",
       " 30: 38,\n",
       " 31: 9,\n",
       " 32: 164,\n",
       " 33: 48,\n",
       " 34: 94,\n",
       " 35: 14,\n",
       " 36: 328,\n",
       " 37: 83,\n",
       " 38: 26,\n",
       " 39: 32,\n",
       " 40: 0,\n",
       " 41: 1,\n",
       " 42: 0,\n",
       " 43: 0,\n",
       " 44: 0,\n",
       " 45: 0,\n",
       " 46: 0,\n",
       " 47: 0,\n",
       " 48: 0,\n",
       " 49: 0,\n",
       " 50: 0}"
      ]
     },
     "execution_count": 53,
     "metadata": {},
     "output_type": "execute_result"
    }
   ],
   "source": [
    "FFd[2][10]"
   ]
  },
  {
   "cell_type": "code",
   "execution_count": 54,
   "id": "35acbba7",
   "metadata": {},
   "outputs": [
    {
     "data": {
      "text/plain": [
       "{-44: 0,\n",
       " -43: 0,\n",
       " -42: 0,\n",
       " -41: 0,\n",
       " -40: 0,\n",
       " -39: 0,\n",
       " -38: 0,\n",
       " -37: 0,\n",
       " -36: 0,\n",
       " -35: 0,\n",
       " -34: 0,\n",
       " -33: 0,\n",
       " -32: 0,\n",
       " -31: 0,\n",
       " -30: 0,\n",
       " -29: 0,\n",
       " -28: 0,\n",
       " -27: 0,\n",
       " -26: 0,\n",
       " -25: 0,\n",
       " -24: 0,\n",
       " -23: 0,\n",
       " -22: 0,\n",
       " -21: 0,\n",
       " -20: 0,\n",
       " -19: 0,\n",
       " -18: 0,\n",
       " -17: 0,\n",
       " -16: 0,\n",
       " -15: 0,\n",
       " -14: 0,\n",
       " -13: 0,\n",
       " -12: 0,\n",
       " -11: 0,\n",
       " -10: 0,\n",
       " -9: 0,\n",
       " -8: 0,\n",
       " -7: 0,\n",
       " -6: 0,\n",
       " -5: 0,\n",
       " -4: 0,\n",
       " -3: 0,\n",
       " -2: 0,\n",
       " -1: 0,\n",
       " 0: 0,\n",
       " 1: 0,\n",
       " 2: 0,\n",
       " 3: 0,\n",
       " 4: 0,\n",
       " 5: 0,\n",
       " 6: 0,\n",
       " 7: 0,\n",
       " 8: 0,\n",
       " 9: 0,\n",
       " 10: 0,\n",
       " 11: 0,\n",
       " 12: 0,\n",
       " 13: 0,\n",
       " 14: 0,\n",
       " 15: 0,\n",
       " 16: 0,\n",
       " 17: 0,\n",
       " 18: 0,\n",
       " 19: 0,\n",
       " 20: 0,\n",
       " 21: 0,\n",
       " 22: 0,\n",
       " 23: 0,\n",
       " 24: 0,\n",
       " 25: 0,\n",
       " 26: 3,\n",
       " 27: 1,\n",
       " 28: 4,\n",
       " 29: 3,\n",
       " 30: 38,\n",
       " 31: 9,\n",
       " 32: 164,\n",
       " 33: 48,\n",
       " 34: 94,\n",
       " 35: 14,\n",
       " 36: 328,\n",
       " 37: 83,\n",
       " 38: 26,\n",
       " 39: 32,\n",
       " 40: 0,\n",
       " 41: 1,\n",
       " 42: 0,\n",
       " 43: 0,\n",
       " 44: 0,\n",
       " 45: 0,\n",
       " 46: 0,\n",
       " 47: 0,\n",
       " 48: 0,\n",
       " 49: 0,\n",
       " 50: 0}"
      ]
     },
     "execution_count": 54,
     "metadata": {},
     "output_type": "execute_result"
    }
   ],
   "source": [
    "FFm[2][10]"
   ]
  }
 ],
 "metadata": {
  "kernelspec": {
   "display_name": "Python 3 (ipykernel)",
   "language": "python",
   "name": "python3"
  },
  "language_info": {
   "codemirror_mode": {
    "name": "ipython",
    "version": 3
   },
   "file_extension": ".py",
   "mimetype": "text/x-python",
   "name": "python",
   "nbconvert_exporter": "python",
   "pygments_lexer": "ipython3",
   "version": "3.9.7"
  }
 },
 "nbformat": 4,
 "nbformat_minor": 5
}
